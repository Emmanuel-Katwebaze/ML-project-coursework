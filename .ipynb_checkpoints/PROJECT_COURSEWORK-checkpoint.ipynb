{
 "cells": [
  {
   "cell_type": "markdown",
   "metadata": {},
   "source": [
    "# Importing libraries"
   ]
  },
  {
   "cell_type": "code",
   "execution_count": 1,
   "metadata": {},
   "outputs": [],
   "source": [
    "import numpy as np\n",
    "import pandas as pd\n",
    "import matplotlib.pyplot as plt\n",
    "from sklearn.model_selection import train_test_split, GridSearchCV\n",
    "from sklearn.preprocessing import StandardScaler\n",
    "from sklearn.metrics import confusion_matrix, classification_report, precision_recall_curve, roc_curve, roc_auc_score\n",
    "from xgboost import XGBClassifier\n",
    "try:\n",
    "    import xgboost\n",
    "except ImportError:\n",
    "    !pip install xgboost"
   ]
  },
  {
   "cell_type": "code",
   "execution_count": 2,
   "metadata": {},
   "outputs": [],
   "source": [
    "dataset = pd.read_csv('data.csv')"
   ]
  },
  {
   "cell_type": "code",
   "execution_count": 3,
   "metadata": {},
   "outputs": [],
   "source": [
    "dataset.head()"
   ]
  },
  {
   "cell_type": "code",
   "execution_count": 4,
   "metadata": {},
   "outputs": [],
   "source": [
    "dataset.info()"
   ]
  },
  {
   "cell_type": "code",
   "execution_count": 5,
   "metadata": {},
   "outputs": [],
   "source": [
    "# drop id and empty column\n",
    "dataset.drop(['Unnamed: 32', \"id\"], axis=1, inplace=True)"
   ]
  },
  {
   "cell_type": "code",
   "execution_count": 6,
   "metadata": {},
   "outputs": [],
   "source": [
    "dataset.head()"
   ]
  },
  {
   "cell_type": "code",
   "execution_count": 7,
   "metadata": {},
   "outputs": [],
   "source": [
    "dataset.describe()"
   ]
  },
  {
   "cell_type": "code",
   "execution_count": 8,
   "metadata": {},
   "outputs": [],
   "source": [
    "# turn target variable into 1s and 0s\n",
    "dataset.diagnosis =[1 if value == \"M\" else 0 for value in dataset.diagnosis]"
   ]
  },
  {
   "cell_type": "code",
   "execution_count": 9,
   "metadata": {},
   "outputs": [],
   "source": [
    "dataset.head()"
   ]
  },
  {
   "cell_type": "code",
   "execution_count": 10,
   "metadata": {},
   "outputs": [],
   "source": [
    "# Store the 'diagnosis' column separately\n",
    "diagnosis_column = dataset['diagnosis']\n",
    "\n",
    "# Drop the 'diagnosis' column from the DataFrame\n",
    "dataset = dataset.drop(columns=['diagnosis'])\n",
    "\n",
    "# Append the 'diagnosis' column to the DataFrame as the last column\n",
    "dataset['diagnosis'] = diagnosis_column"
   ]
  },
  {
   "cell_type": "code",
   "execution_count": 11,
   "metadata": {},
   "outputs": [],
   "source": [
    "dataset.head()"
   ]
  },
  {
   "cell_type": "markdown",
   "metadata": {},
   "source": [
    "# Get the shape of the dataframe"
   ]
  },
  {
   "cell_type": "code",
   "execution_count": 12,
   "metadata": {},
   "outputs": [],
   "source": [
    "dataset.shape"
   ]
  },
  {
   "cell_type": "code",
   "execution_count": 13,
   "metadata": {},
   "outputs": [],
   "source": [
    "X = dataset.iloc[:, :-1].values\n",
    "y = dataset.iloc[:, -1].values"
   ]
  },
  {
   "cell_type": "markdown",
   "metadata": {},
   "source": [
    "# Splitting the dataset into the Training set and Test Set"
   ]
  },
  {
   "cell_type": "code",
   "execution_count": 14,
   "metadata": {},
   "outputs": [],
   "source": [
    "from sklearn.model_selection import train_test_split\n",
    "X_train, X_test, y_train, y_test = train_test_split(X, y, test_size = 0.2, random_state = 0)"
   ]
  },
  {
   "cell_type": "markdown",
   "metadata": {},
   "source": [
    "# Feature Scaling"
   ]
  },
  {
   "cell_type": "code",
   "execution_count": 15,
   "metadata": {},
   "outputs": [],
   "source": [
    "# Feature scaling\n",
    "sc = StandardScaler()\n",
    "X_train = sc.fit_transform(X_train)\n",
    "X_test = sc.transform(X_test)"
   ]
  },
  {
   "cell_type": "code",
   "execution_count": 16,
   "metadata": {},
   "outputs": [],
   "source": [
    "# Train XGBoost model\n",
    "classifier = XGBClassifier()\n",
    "# classifier.fit(X_train, y_train)"
   ]
  },
  {
   "cell_type": "code",
   "execution_count": 17,
   "metadata": {},
   "outputs": [],
   "source": [
    "# Define parameter grid\n",
    "param_grid = {\n",
    "    'learning_rate': [0.1, 0.01, 0.001],\n",
    "    'max_depth': [3, 4, 5],\n",
    "    'n_estimators': [100, 200, 300]\n",
    "}\n",
    "\n",
    "# Create GridSearchCV object\n",
    "grid_search = GridSearchCV(estimator=classifier, param_grid=param_grid, cv=5, n_jobs=-1)"
   ]
  },
  {
   "cell_type": "code",
   "execution_count": 18,
   "metadata": {},
   "outputs": [],
   "source": [
    "# Fit GridSearchCV to training data\n",
    "grid_search.fit(X_train, y_train)"
   ]
  },
  {
   "cell_type": "code",
   "execution_count": 19,
   "metadata": {},
   "outputs": [],
   "source": [
    "# Get the best parameters\n",
    "best_params = grid_search.best_params_\n",
    "print(\"Best Parameters:\", best_params)"
   ]
  },
  {
   "cell_type": "code",
   "execution_count": 20,
   "metadata": {
    "scrolled": true
   },
   "outputs": [],
   "source": [
    "# Use the best parameters to create the final model\n",
    "# final_classifier = XGBClassifier(**best_params)\n",
    "# final_classifier.fit(X_train, y_train)\n",
    "# Use the best parameters to create the final model\n",
    "classifier = XGBClassifier(**best_params)\n",
    "classifier.fit(X_train, y_train)"
   ]
  },
  {
   "cell_type": "code",
   "execution_count": 21,
   "metadata": {},
   "outputs": [],
   "source": [
    "from sklearn.model_selection import cross_val_score\n",
    "from sklearn.metrics import make_scorer, precision_score, recall_score, f1_score\n",
    "\n",
    "# Define scoring metrics\n",
    "scoring = {\n",
    "    'precision': make_scorer(precision_score),\n",
    "    'recall': make_scorer(recall_score),\n",
    "    'f1': make_scorer(f1_score)\n",
    "}\n",
    "\n",
    "# Perform 10-fold cross-validation for accuracy\n",
    "accuracy_scores = cross_val_score(estimator = classifier, X = X_train, y = y_train, cv = 10)\n",
    "\n",
    "# Perform 10-fold cross-valiation for precision\n",
    "precision_scores = cross_val_score(estimator = classifier, X = X_train, y = y_train, cv = 10, scoring='precision')\n",
    "\n",
    "# Perform 10-fold cross-validation for recall\n",
    "recall_scores = cross_val_score(estimator = classifier, X = X_train, y = y_train, cv=10, scoring='recall')\n",
    "\n",
    "# Perform 10-fold cross-validation for F1-score\n",
    "f1_scores = cross_val_score(estimator = classifier, X = X_train, y = y_train, cv=10, scoring='f1')\n",
    "\n",
    "# Print the results\n",
    "print(\"Accuracy: {:.2f} %\".format(accuracy_scores.mean() * 100))\n",
    "print(\"Precision: {:.2f} %\".format(precision_scores.mean() * 100))\n",
    "print(\"Recall: {:.2f} %\".format(recall_scores.mean() * 100))\n",
    "print(\"F1 Score: {:.2f} %\".format(f1_scores.mean() * 100))"
   ]
  },
  {
   "cell_type": "code",
   "execution_count": 22,
   "metadata": {},
   "outputs": [],
   "source": [
    "y_pred = classifier.predict(X_test)\n",
    "print(np.concatenate((y_pred.reshape(len(y_pred),1), y_test.reshape(len(y_test),1)),1))"
   ]
  },
  {
   "cell_type": "code",
   "execution_count": 23,
   "metadata": {},
   "outputs": [],
   "source": [
    "from sklearn.metrics import confusion_matrix, accuracy_score, plot_confusion_matrix\n",
    "accuracy = accuracy_score(y_test, y_pred) * 100\n",
    "precision = precision_score(y_test, y_pred) * 100\n",
    "recall = recall_score(y_test, y_pred) * 100\n",
    "f1 = f1_score(y_test, y_pred) * 100\n",
    "print(\"Accuracy: {:.2f}%\".format(accuracy))\n",
    "print(\"Precision: {:.2f}%\".format(precision))\n",
    "print(\"Recall: {:.2f}%\".format(recall))\n",
    "print(\"F1 Score: {:.2f}%\".format(f1))"
   ]
  },
  {
   "cell_type": "code",
   "execution_count": null,
   "metadata": {},
   "outputs": [],
   "source": [
    "from sklearn.metrics import confusion_matrix, ConfusionMatrixDisplay\n",
    "# Confusion Matrix\n",
    "disp = ConfusionMatrixDisplay.from_predictions(y_test, y_pred, cmap=plt.cm.Blues)"
   ]
  },
  {
   "cell_type": "code",
   "execution_count": null,
   "metadata": {},
   "outputs": [],
   "source": [
    "# Classification Report\n",
    "class_report = classification_report(y_test, y_pred)\n",
    "print(\"\\nClassification Report:\")\n",
    "print(class_report)"
   ]
  },
  {
   "cell_type": "code",
   "execution_count": null,
   "metadata": {},
   "outputs": [],
   "source": [
    "# Precision-Recall Curve\n",
    "precision, recall, _ = precision_recall_curve(y_test, y_pred)\n",
    "plt.plot(recall, precision, marker='.')\n",
    "plt.xlabel('Recall')\n",
    "plt.ylabel('Precision')\n",
    "plt.title('Precision-Recall Curve')\n",
    "plt.show()"
   ]
  },
  {
   "cell_type": "code",
   "execution_count": null,
   "metadata": {},
   "outputs": [],
   "source": [
    "# ROC Curve\n",
    "fpr, tpr, _ = roc_curve(y_test, y_pred)\n",
    "plt.plot(fpr, tpr, marker='.')\n",
    "plt.xlabel('False Positive Rate')\n",
    "plt.ylabel('True Positive Rate')\n",
    "plt.title('ROC Curve')\n",
    "plt.show()"
   ]
  },
  {
   "cell_type": "code",
   "execution_count": null,
   "metadata": {},
   "outputs": [],
   "source": [
    "# Area under ROC Curve\n",
    "auc_score = roc_auc_score(y_test, y_pred)\n",
    "print(\"Area under ROC Curve:\", auc_score)"
   ]
  },
  {
   "cell_type": "code",
   "execution_count": null,
   "metadata": {},
   "outputs": [],
   "source": [
    "# Feature Importance\n",
    "feature_importance = classifier.feature_importances_\n",
    "sorted_idx = np.argsort(feature_importance)[::-1]\n",
    "\n",
    "# Get feature names\n",
    "feature_names = dataset.columns[:-1]\n",
    "\n",
    "plt.figure(figsize=(10, 6))\n",
    "plt.bar(range(X.shape[1]), feature_importance[sorted_idx], align=\"center\")\n",
    "plt.xticks(range(X.shape[1]), feature_names[sorted_idx], rotation=45, ha='right', fontsize=8)\n",
    "plt.xlabel('Feature')\n",
    "plt.ylabel('Feature Importance')\n",
    "plt.title('Feature Importance')\n",
    "plt.tight_layout()\n",
    "plt.show()\n"
   ]
  },
  {
   "cell_type": "markdown",
   "metadata": {},
   "source": [
    "# ii) Support Vector Classification - Zaharah"
   ]
  },
  {
   "cell_type": "markdown",
   "metadata": {},
   "source": [
    "# iii) Random Forest Classification - Emma"
   ]
  },
  {
   "cell_type": "code",
   "execution_count": 24,
   "metadata": {},
   "outputs": [],
   "source": [
    "# Random Forest Classification\n",
    "from sklearn.ensemble import RandomForestClassifier\n",
    "\n",
    "# Instantiate Random Forest Classifier\n",
    "rf_classifier = RandomForestClassifier()\n"
   ]
  },
  {
   "cell_type": "code",
   "execution_count": 25,
   "metadata": {},
   "outputs": [],
   "source": [
    "# Define parameter grid\n",
    "param_grid = {\n",
    "    'n_estimators': [50, 100, 200],\n",
    "    'max_depth': [None, 10, 20],\n",
    "    'min_samples_split': [2, 5, 10],\n",
    "    'min_samples_leaf': [1, 2, 4]\n",
    "}\n",
    "\n",
    "# Create GridSearchCV object\n",
    "rf_grid_search = GridSearchCV(estimator=rf_classifier, param_grid=param_grid, cv=5, n_jobs=-1)\n",
    "\n",
    "# Fit GridSearchCV to training data\n",
    "rf_grid_search.fit(X_train, y_train)\n"
   ]
  },
  {
   "cell_type": "code",
   "execution_count": 26,
   "metadata": {},
   "outputs": [],
   "source": [
    "# Get the best parameters\n",
    "rf_best_params = rf_grid_search.best_params_\n",
    "print(\"Best Parameters for Random Forest Classifier:\", rf_best_params)\n"
   ]
  },
  {
   "cell_type": "code",
   "execution_count": null,
   "metadata": {},
   "outputs": [],
   "source": [
    "# Use the best parameters to create the final model\n",
    "rf_classifier = RandomForestClassifier(**rf_best_params)\n",
    "rf_classifier.fit(X_train, y_train)\n",
    "\n",
    "# Cross-validation for Random Forest Classifier\n",
    "rf_accuracy_scores = cross_val_score(estimator=rf_classifier, X=X_train, y=y_train, cv=10)\n",
    "rf_precision_scores = cross_val_score(estimator=rf_classifier, X=X_train, y=y_train, cv=10, scoring='precision')\n",
    "rf_recall_scores = cross_val_score(estimator=rf_classifier, X=X_train, y=y_train, cv=10, scoring='recall')\n",
    "rf_f1_scores = cross_val_score(estimator=rf_classifier, X=X_train, y=y_train, cv=10, scoring='f1')\n",
    "\n",
    "# Print the results\n",
    "print(\"Random Forest Classifier - Cross Validation Results:\")\n",
    "print(\"Accuracy: {:.2f} %\".format(rf_accuracy_scores.mean() * 100))\n",
    "print(\"Precision: {:.2f} %\".format(rf_precision_scores.mean() * 100))\n",
    "print(\"Recall: {:.2f} %\".format(rf_recall_scores.mean() * 100))\n",
    "print(\"F1 Score: {:.2f} %\".format(rf_f1_scores.mean() * 100))\n"
   ]
  },
  {
   "cell_type": "code",
   "execution_count": null,
   "metadata": {},
   "outputs": [],
   "source": [
    "# Predictions and evaluation\n",
    "rf_y_pred = rf_classifier.predict(X_test)\n"
   ]
  },
  {
   "cell_type": "code",
   "execution_count": null,
   "metadata": {},
   "outputs": [],
   "source": [
    "# Confusion Matrix\n",
    "rf_conf_matrix = confusion_matrix(y_test, rf_y_pred)\n",
    "print(\"\\nConfusion Matrix:\")\n",
    "print(rf_conf_matrix)\n"
   ]
  },
  {
   "cell_type": "code",
   "execution_count": null,
   "metadata": {},
   "outputs": [],
   "source": [
    "# Classification Report\n",
    "rf_class_report = classification_report(y_test, rf_y_pred)\n",
    "print(\"\\nClassification Report:\")\n",
    "print(rf_class_report)\n"
   ]
  },
  {
   "cell_type": "code",
   "execution_count": null,
   "metadata": {},
   "outputs": [],
   "source": [
    "# Precision-Recall Curve\n",
    "rf_precision, rf_recall, _ = precision_recall_curve(y_test, rf_y_pred)\n",
    "plt.plot(rf_recall, rf_precision, marker='.')\n",
    "plt.xlabel('Recall')\n",
    "plt.ylabel('Precision')\n",
    "plt.title('Random Forest Precision-Recall Curve')\n",
    "plt.show()\n"
   ]
  },
  {
   "cell_type": "code",
   "execution_count": null,
   "metadata": {},
   "outputs": [],
   "source": [
    "# ROC Curve\n",
    "rf_fpr, rf_tpr, _ = roc_curve(y_test, rf_y_pred)\n",
    "plt.plot(rf_fpr, rf_tpr, marker='.')\n",
    "plt.xlabel('False Positive Rate')\n",
    "plt.ylabel('True Positive Rate')\n",
    "plt.title('Random Forest ROC Curve')\n",
    "plt.show()\n"
   ]
  },
  {
   "cell_type": "code",
   "execution_count": null,
   "metadata": {},
   "outputs": [],
   "source": [
    "# Area under ROC Curve\n",
    "rf_auc_score = roc_auc_score(y_test, rf_y_pred)\n",
    "print(\"Area under ROC Curve for Random Forest Classifier:\", rf_auc_score)\n"
   ]
  },
  {
   "cell_type": "code",
   "execution_count": null,
   "metadata": {},
   "outputs": [],
   "source": [
    "# Feature Importance\n",
    "rf_feature_importance = rf_classifier.feature_importances_\n",
    "rf_sorted_idx = np.argsort(rf_feature_importance)[::-1]\n",
    "\n",
    "plt.figure(figsize=(10, 6))\n",
    "plt.bar(range(X.shape[1]), rf_feature_importance[rf_sorted_idx], align=\"center\")\n",
    "plt.xticks(range(X.shape[1]), feature_names[rf_sorted_idx], rotation=45, ha='right', fontsize=8)\n",
    "plt.xlabel('Feature')\n",
    "plt.ylabel('Feature Importance')\n",
    "plt.title('Random Forest Feature Importance')\n",
    "plt.tight_layout()\n",
    "plt.show()\n"
   ]
  },
  {
   "cell_type": "markdown",
   "metadata": {},
   "source": [
    "# iv) Neural Network Classification - Saul"
   ]
  },
  {
   "cell_type": "markdown",
   "metadata": {},
   "source": [
    "# v) Logistic Regression - Prossy"
   ]
  }
 ],
 "metadata": {
  "kernelspec": {
   "display_name": "Python 3 (ipykernel)",
   "language": "python",
   "name": "python3"
  },
  "language_info": {
   "codemirror_mode": {
    "name": "ipython",
    "version": 3
   },
   "file_extension": ".py",
   "mimetype": "text/x-python",
   "name": "python",
   "nbconvert_exporter": "python",
   "pygments_lexer": "ipython3",
   "version": "3.11.5"
  }
 },
 "nbformat": 4,
 "nbformat_minor": 4
}
